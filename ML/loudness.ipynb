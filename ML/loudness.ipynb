{
 "cells": [
  {
   "cell_type": "code",
   "execution_count": 1,
   "metadata": {},
   "outputs": [],
   "source": [
    "from pydub import AudioSegment\n",
    "import numpy as np\n",
    "import os\n",
    "import math\n",
    "import moviepy.editor as mp\n",
    "import time"
   ]
  },
  {
   "cell_type": "code",
   "execution_count": 2,
   "metadata": {},
   "outputs": [],
   "source": [
    "# Explicitly set the path for ffmpeg and ffprobe\n",
    "os.environ['PATH'] += os.pathsep + '/usr/local/bin'"
   ]
  },
  {
   "cell_type": "code",
   "execution_count": 3,
   "metadata": {},
   "outputs": [
    {
     "name": "stdout",
     "output_type": "stream",
     "text": [
      "MoviePy - Writing audio in ./audio/audio.mp3\n"
     ]
    },
    {
     "name": "stderr",
     "output_type": "stream",
     "text": [
      "                                                                        "
     ]
    },
    {
     "name": "stdout",
     "output_type": "stream",
     "text": [
      "MoviePy - Done.\n"
     ]
    },
    {
     "name": "stderr",
     "output_type": "stream",
     "text": [
      "\r"
     ]
    }
   ],
   "source": [
    "# Convert video to audio\n",
    "video_file_path = \"./download/ulfJXy4QptQ.mp4\"\n",
    "audio_file_path = \"./audio/audio.mp3\"\n",
    "clip = mp.VideoFileClip(video_file_path)\n",
    "clip.audio.write_audiofile(audio_file_path)"
   ]
  },
  {
   "cell_type": "code",
   "execution_count": 4,
   "metadata": {},
   "outputs": [],
   "source": [
    "# audio_file_path = '/Users/joankadevi/Downloads/testingloudness.m4a'"
   ]
  },
  {
   "cell_type": "code",
   "execution_count": 5,
   "metadata": {},
   "outputs": [],
   "source": [
    "def get_loudest_timeframes(audio_path, num_timeframes=10, frame_duration_ms=1000):\n",
    "    # Load the audio file\n",
    "    audio = AudioSegment.from_file(audio_path)\n",
    "    \n",
    "    # Calculate the number of frames\n",
    "    num_frames = math.ceil(len(audio) / frame_duration_ms)\n",
    "    \n",
    "    # Calculate the average amplitude for each frame\n",
    "    frames = []\n",
    "    for i in range(num_frames):\n",
    "        start_time = i * frame_duration_ms\n",
    "        end_time = start_time + frame_duration_ms\n",
    "        frame = audio[start_time:end_time]\n",
    "        amplitude = np.abs(np.array(frame.get_array_of_samples())).mean()\n",
    "        frames.append((amplitude, start_time / 1000.0, end_time / 1000.0))  # Convert to seconds\n",
    "    \n",
    "    # Sort frames by amplitude in descending order\n",
    "    frames.sort(reverse=True, key=lambda x: x[0])\n",
    "    \n",
    "    # Select the top num_timeframes frames\n",
    "    loudest_timeframes = [(float(start), float(end)) for _, start, end in frames[:num_timeframes]]\n",
    "    \n",
    "    return loudest_timeframes\n"
   ]
  },
  {
   "cell_type": "code",
   "execution_count": 6,
   "metadata": {},
   "outputs": [
    {
     "name": "stdout",
     "output_type": "stream",
     "text": [
      "Loudest timeframes (in seconds): [(4.0, 5.0), (5.0, 6.0), (401.0, 402.0), (435.0, 436.0), (171.0, 172.0), (166.0, 167.0), (190.0, 191.0), (436.0, 437.0), (406.0, 407.0), (247.0, 248.0)]\n"
     ]
    }
   ],
   "source": [
    "loudest_timeframes = get_loudest_timeframes(audio_file_path)\n",
    "print(f\"Loudest timeframes (in seconds): {loudest_timeframes}\")"
   ]
  }
 ],
 "metadata": {
  "kernelspec": {
   "display_name": "ENV_NAME",
   "language": "python",
   "name": "python3"
  },
  "language_info": {
   "codemirror_mode": {
    "name": "ipython",
    "version": 3
   },
   "file_extension": ".py",
   "mimetype": "text/x-python",
   "name": "python",
   "nbconvert_exporter": "python",
   "pygments_lexer": "ipython3",
   "version": "3.9.19"
  }
 },
 "nbformat": 4,
 "nbformat_minor": 2
}
