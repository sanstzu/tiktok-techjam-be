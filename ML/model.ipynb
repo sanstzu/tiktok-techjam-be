{
 "cells": [
  {
   "cell_type": "code",
   "execution_count": 1,
   "metadata": {},
   "outputs": [],
   "source": [
    "import openai\n",
    "from openai import OpenAI\n",
    "import os\n",
    "import base64\n",
    "import requests\n",
    "from key import OPENAI_API_KEY\n",
    "\n",
    "api_key=OPENAI_API_KEY\n",
    "client = OpenAI(api_key=api_key)"
   ]
  },
  {
   "cell_type": "code",
   "execution_count": 2,
   "metadata": {},
   "outputs": [],
   "source": [
    "# Function to encode the image\n",
    "def encode_image(image_path):\n",
    "    with open(image_path, \"rb\") as image_file:\n",
    "        return base64.b64encode(image_file.read()).decode('utf-8')\n",
    "\n",
    "def list_files(directory):\n",
    "    file_list = []\n",
    "    for root, dirs, files in os.walk(directory):\n",
    "        for file in files:\n",
    "            file_list.append(os.path.join(root, file))\n",
    "    return file_list"
   ]
  },
  {
   "cell_type": "code",
   "execution_count": 3,
   "metadata": {},
   "outputs": [],
   "source": [
    "# Get System Prompt\n",
    "f = open(\"prompt.txt\", \"r\")\n",
    "prompt_text = f.read()\n",
    "\n",
    "# Get User Input\n",
    "user_input = \"1. Dunks 2. Crossovers\""
   ]
  },
  {
   "cell_type": "code",
   "execution_count": 4,
   "metadata": {},
   "outputs": [],
   "source": [
    "# Get all the image paths\n",
    "directory = './frames'  # When you run video.py, all the frames located inside frames folder\n",
    "image_paths = list_files(directory)\n",
    "\n",
    "results = []\n",
    "\n",
    "# Iterate through each image path\n",
    "for image_path in image_paths:\n",
    "    # Getting the base64 string\n",
    "    base64_image = encode_image(image_path)\n",
    "\n",
    "    headers = {\n",
    "        \"Content-Type\": \"application/json\",\n",
    "        \"Authorization\": f\"Bearer {api_key}\"\n",
    "    }\n",
    "\n",
    "    payload = {\n",
    "        \"model\": \"gpt-4o\",\n",
    "        \"messages\": [\n",
    "            {\"role\": \"system\", \"content\": prompt_text},\n",
    "            {\"role\": \"user\", \"content\": [{\"type\": \"text\", \"text\": user_input}, {\"type\": \"image_url\",\"image_url\": {\"url\": f\"data:image/jpeg;base64,{base64_image}\", \"detail\": \"low\"}}]}\n",
    "            # user_input text can be removed\n",
    "        ],\n",
    "        \"max_tokens\": 300\n",
    "    }\n",
    "\n",
    "    # Make the API request\n",
    "    response = requests.post(\"https://api.openai.com/v1/chat/completions\", headers=headers, json=payload)\n",
    "\n",
    "    # Append the result to the list\n",
    "    results.append(response.json())"
   ]
  },
  {
   "cell_type": "code",
   "execution_count": 5,
   "metadata": {},
   "outputs": [
    {
     "data": {
      "text/plain": [
       "{'id': 'chatcmpl-9cy7XZE3AGh4Rr4LhmP3AQWOnZ8QD',\n",
       " 'object': 'chat.completion',\n",
       " 'created': 1719074595,\n",
       " 'model': 'gpt-4o-2024-05-13',\n",
       " 'choices': [{'index': 0,\n",
       "   'message': {'role': 'assistant',\n",
       "    'content': 'Player in white jersey driving towards the basket past a defender in a teal jersey'},\n",
       "   'logprobs': None,\n",
       "   'finish_reason': 'stop'}],\n",
       " 'usage': {'prompt_tokens': 208, 'completion_tokens': 15, 'total_tokens': 223},\n",
       " 'system_fingerprint': 'fp_9cb5d38cf7'}"
      ]
     },
     "execution_count": 5,
     "metadata": {},
     "output_type": "execute_result"
    }
   ],
   "source": [
    "# Result Sample\n",
    "results[0]"
   ]
  },
  {
   "cell_type": "code",
   "execution_count": 6,
   "metadata": {},
   "outputs": [
    {
     "name": "stdout",
     "output_type": "stream",
     "text": [
      "Player in white jersey driving towards the basket past a defender in a teal jersey\n",
      "Player in a white jersey performing a crossover move to get past a defender in a blue jersey near the three-point line, crowd in background\n",
      "Player in a white jersey dunking the ball while a player in a turquoise jersey lies on the ground under the rim, and the crowd and bench react energetically\n"
     ]
    }
   ],
   "source": [
    "# Iterate through all the results\n",
    "for i in range(len(image_paths)):\n",
    "    print(results[i]['choices'][0]['message']['content'])"
   ]
  },
  {
   "cell_type": "markdown",
   "metadata": {},
   "source": [
    "Just a short introduction to process images using gpt-4o, still a bad result, definitely need to change the prompt"
   ]
  }
 ],
 "metadata": {
  "kernelspec": {
   "display_name": "tiktok_env",
   "language": "python",
   "name": "python3"
  },
  "language_info": {
   "codemirror_mode": {
    "name": "ipython",
    "version": 3
   },
   "file_extension": ".py",
   "mimetype": "text/x-python",
   "name": "python",
   "nbconvert_exporter": "python",
   "pygments_lexer": "ipython3",
   "version": "3.9.19"
  }
 },
 "nbformat": 4,
 "nbformat_minor": 2
}
