{
 "cells": [
  {
   "cell_type": "code",
   "execution_count": 30,
   "metadata": {},
   "outputs": [],
   "source": [
    "import openai\n",
    "from openai import OpenAI\n",
    "import os\n",
    "import base64\n",
    "import requests\n",
    "from key import OPENAI_API_KEY\n",
    "import math\n",
    "import numpy as np"
   ]
  },
  {
   "cell_type": "code",
   "execution_count": 31,
   "metadata": {},
   "outputs": [],
   "source": [
    "# Initialize client\n",
    "api_key=OPENAI_API_KEY\n",
    "client = OpenAI(api_key=api_key)"
   ]
  },
  {
   "cell_type": "code",
   "execution_count": 32,
   "metadata": {},
   "outputs": [],
   "source": [
    "# Function to encode the image\n",
    "def encode_image(image_path):\n",
    "    with open(image_path, \"rb\") as image_file:\n",
    "        return base64.b64encode(image_file.read()).decode('utf-8')\n",
    "\n",
    "def list_files(directory):\n",
    "    file_list = []\n",
    "    for root, dirs, files in os.walk(directory):\n",
    "        for file in files:\n",
    "            file_list.append(os.path.join(root, file))\n",
    "    return file_list\n",
    "\n",
    "# Get url name\n",
    "from video import extract_youtube_id\n",
    "url = extract_youtube_id(\"https://www.youtube.com/watch?v=L8ECu0f9_kA\")\n",
    "\n",
    "# Get all the image paths\n",
    "directory = './frames/' + url  # When you run video.py, all the frames located inside frames folder\n",
    "image_paths = list_files(directory)"
   ]
  },
  {
   "cell_type": "code",
   "execution_count": 33,
   "metadata": {},
   "outputs": [
    {
     "data": {
      "text/plain": [
       "'./frames/L8ECu0f9_kA'"
      ]
     },
     "execution_count": 33,
     "metadata": {},
     "output_type": "execute_result"
    }
   ],
   "source": [
    "directory"
   ]
  },
  {
   "cell_type": "code",
   "execution_count": 34,
   "metadata": {},
   "outputs": [],
   "source": [
    "# Get System Prompt\n",
    "f = open(\"prompt.txt\", \"r\")\n",
    "prompt_text = f.read()\n",
    "\n",
    "# Get User Input\n",
    "user_input = \"great moments\""
   ]
  },
  {
   "cell_type": "code",
   "execution_count": 35,
   "metadata": {},
   "outputs": [],
   "source": [
    "results = []\n",
    "\n",
    "# Iterate through each image path\n",
    "for image_path in image_paths:\n",
    "    # Getting the base64 string\n",
    "    base64_image = encode_image(image_path)\n",
    "\n",
    "    headers = {\n",
    "        \"Content-Type\": \"application/json\",\n",
    "        \"Authorization\": f\"Bearer {api_key}\"\n",
    "    }\n",
    "\n",
    "    payload = {\n",
    "        \"model\": \"gpt-4o\",\n",
    "        \"messages\": [\n",
    "            {\"role\": \"system\", \"content\": prompt_text},\n",
    "            {\"role\": \"user\", \"content\": [{\"type\": \"text\", \"text\": user_input}, {\"type\": \"image_url\",\"image_url\": {\"url\": f\"data:image/jpg;base64,{base64_image}\", \"detail\": \"low\"}}]}\n",
    "            # user_input text can be removed\n",
    "        ],\n",
    "        \"max_tokens\": 4096\n",
    "    }\n",
    "\n",
    "    # Make the API request\n",
    "    response = requests.post(\"https://api.openai.com/v1/chat/completions\", headers=headers, json=payload)\n",
    "\n",
    "    # Append the result to the list\n",
    "    results.append(response.json())"
   ]
  },
  {
   "cell_type": "code",
   "execution_count": 36,
   "metadata": {},
   "outputs": [
    {
     "data": {
      "text/plain": [
       "{'id': 'chatcmpl-9eRAngSkb7z88XitfGN7CUZc4vo7d',\n",
       " 'object': 'chat.completion',\n",
       " 'created': 1719424601,\n",
       " 'model': 'gpt-4o-2024-05-13',\n",
       " 'choices': [{'index': 0,\n",
       "   'message': {'role': 'assistant',\n",
       "    'content': '**Caption:** \"In a thrilling badminton match, two players intensely compete with one player preparing to return a shot with a swift backhand. The scoreboard in the background indicates the match\\'s competitive nature, with closely matched scores highlighting the high stakes of the game.\"'},\n",
       "   'logprobs': None,\n",
       "   'finish_reason': 'stop'}],\n",
       " 'usage': {'prompt_tokens': 1116,\n",
       "  'completion_tokens': 52,\n",
       "  'total_tokens': 1168},\n",
       " 'system_fingerprint': 'fp_4008e3b719'}"
      ]
     },
     "execution_count": 36,
     "metadata": {},
     "output_type": "execute_result"
    }
   ],
   "source": [
    "# Result Sample\n",
    "results[0]"
   ]
  },
  {
   "cell_type": "code",
   "execution_count": 40,
   "metadata": {},
   "outputs": [
    {
     "name": "stdout",
     "output_type": "stream",
     "text": [
      "0 :  **Caption:** \"In a thrilling badminton match, two players intensely compete with one player preparing to return a shot with a swift backhand. The scoreboard in the background indicates the match's competitive nature, with closely matched scores highlighting the high stakes of the game.\"\n",
      "1 :  **Caption:** \"In a high-stakes match point scenario, two badminton players intensely engage in a fast-paced rally, with one preparing to return a powerful shot. The scoreboard in the background emphasizes the critical nature of the moment, showcasing the tight scores and the competitive atmosphere of the championship match.\"\n",
      "2 :  \"Lee Zii Jia Incredible Shots\"\n",
      "3 :  **Caption:** \"In a highlight moment of the match, two badminton players are intensely engaged in a rally. The scoreboard shows a tight score, reflecting the high stakes and competitive spirit of the game. The atmosphere is charged with anticipation as fans watch closely.\"\n",
      "4 :  \"An intense badminton match captures the critical moment as a player prepares to return a fast shuttlecock, embodying the agility and focus needed in the game.\"\n",
      "5 :  \"A shuttlecock lies on the court, signifying the end of a pivotal rally in a badminton match.\"\n",
      "6 :  **Caption:** \"Two competitive badminton players face off in an intense match at the TotalEnergies BWF Sudirman Cup Finals 2023. The scoreboard shows Lee J. J. leading against Chou T. C. amidst the high-stakes atmosphere in the arena.\"\n",
      "7 :  **Caption:** \"In a high-stakes match at the TotalEnergies BWF Sudirman Cup Finals 2023, Lee J. J. and Chou T. C. engage in a critical rally. Lee is poised to return a powerful shot from Chou, demonstrating intense focus and athleticism. The scoreboard is tight, reflecting the competitive spirit and high skill level of both players.\"\n",
      "8 :  \"During the TotalEnergies BWF Sudirman Cup Finals 2023, two badminton players intensely compete, with one airborne in a powerful leap to return a shot, showcasing the athleticism and high stakes of the match.\"\n",
      "9 :  **Caption:** \"Lee J.J. and Chou T.C. engage in a high-speed rally during the TotalEnergies BWF Sudirman Cup Finals 2023 in Suzhou, with both players demonstrating exceptional agility and precision on the court.\"\n",
      "10 :  \"Two team members energetically celebrate a critical point during a match, displaying their excitement and support from the sidelines. The scoreboard in the background indicates a competitive game in progress.\"\n",
      "11 :  ***\"A badminton player, wearing a sleeveless shirt with 'PETRONAS' branding, stands on the court, possibly reflecting on a recent play or strategizing for the next move.\"***\n",
      "12 :  **Caption:** \"Two badminton players are captured in an intense moment of the match, each reaching for the shuttlecock with determination, showcasing their agility and competitive spirit.\"\n",
      "13 :  **Caption:** \"Two badminton players fiercely compete in a high-stakes match during the 2023 BWF Sudirman Cup Finals. One player lunges towards the net for a rapid shot, showcasing their agility and intense focus.\"\n",
      "14 :  **Caption:** \"Two badminton players intensely compete in a high-stakes rally during the 2023 BWF Sudirman Cup Finals, showcasing their agility and precision on the court.\"\n",
      "15 :  **Caption:** \"An intense moment in a badminton match where Lee Z.J. dives to return a shot from Vitidsarn, reflecting the high stakes and competitive spirit as the score is closely contested.\"\n",
      "16 :  \"Two badminton players face off in a tense moment during a match, with one player adjusting their racket and the score indicating a competitive game. The intense atmosphere is heightened by the close scores of 21-20 and 13-11, capturing the drama and skill of this significant point in the match.\"\n",
      "17 :  **Caption:** \"Two badminton players stand ready on the court, with one player in the foreground showing determination as the match reaches a critical point with the score at 21-21, highlighting the intense competition and high stakes of this moment.\"\n",
      "18 :  **Caption:** \"A high-intensity moment in the badminton match, with one player diving to return a shot while the other prepares for a swift counter, highlighting the athleticism and quick reflexes required in the game. The scoreboard indicates a close competition.\"\n",
      "19 :  **Caption:** \"A badminton player, Lee Z.J. from Malaysia, raises his arm in a triumphant gesture after scoring a critical point against his opponent, capturing the intensity and excitement of the match.\"\n",
      "20 :  **Caption:** \"Two badminton players intensely compete in a high-stakes match, showcasing their agility and skill as the shuttlecock speeds across the net.\"\n",
      "21 :  **Caption:** \"A tense moment in a competitive badminton match in Changzhou, with both players engaged in a rapid exchange. The scoreboard indicates a close game, inviting excitement and anticipation from the audience.\"\n",
      "22 :  **Caption:** \"In an intense badminton match, a player in red returns a powerful shot, demonstrating remarkable agility and precision. The scoreboard indicates a highly competitive game, reflecting the players' determination and skill.\"\n",
      "23 :  **Caption:** \"In the heated final moments of a badminton match in Changzhou, one player executes a powerful serve while the other prepares for a swift return. The intensity and concentration of the competitors underscore the high stakes of the game.\"\n",
      "24 :  **Caption:** \"A tense moment in the badminton match as both players intensely engage in a rapid exchange, with the scoreboard displaying a close contest. The atmosphere is electric as they strive for every point.\"\n",
      "25 :  **Caption:** \"In an intense moment of the badminton match, two players engage in a high-speed rally, showcasing their agility and skill on the court. The scoreboard indicates a tight game, adding to the suspense and excitement of the match.\"\n",
      "26 :  **Caption:** \"A badminton player celebrates a triumphant moment, having just won a hard-fought match, as indicated by the final scores displayed on the scoreboard.\"\n",
      "27 :  \"A badminton player exudes determination and focus during a tense moment in the match, clearly displayed by the intense scoreline on the scoreboard behind.\"\n",
      "28 :  **Caption:** \"Two highly skilled badminton players engage in a fast-paced rally during a competitive match, with one player preparing to return a high shot as the audience watches with anticipation.\"\n",
      "29 :  \"During an intense badminton match, a player from Japan raises his arm in triumph after a successful play, while his Malaysian opponent walks away, highlighting the competitive spirit and key moment of the game.\"\n",
      "30 :  **Caption:** \"In a high-stakes match, Lee Z.J. prepares to serve against Naraka.J. at the Birmingham Badminton Championship. The scoreboard reflects the intense competition, with Lee Z.J. leading 21-12 in the third game, showcasing the remarkable skills and determination of both players.\"\n",
      "31 :  **\"LEE Z J\" (21) vs. \"NARAOKA\" (12): Intense Moment in Badminton Match**\n",
      "\n",
      "A critical moment in a high-stakes badminton match, as two players intensely compete. The score stands at 21-12, indicating a potentially deciding point. Spectators in the dimly lit arena watch with anticipation, highlighting the significance of the match.\n",
      "32 :  **Caption:** \"Two competitive badminton players are intensely engaged in a rally during an important match, showcasing agility, precision, and determination as they fight for each point in the high-stakes game.\"\n",
      "33 :  **Caption:** \"A pivotal moment in the badminton match as the player in red lunges to return a powerful shot from their opponent, reflecting intense competition and strategic gameplay.\"\n",
      "34 :  **Caption:** \"A badminton player, adorned in a black headband and jersey, relishes a triumphant moment on the court. The scoreboard indicates a scoring edge, reflecting the tension and achievement in the match. The player's expression and body language capture the exhilaration of the competitive atmosphere.\"\n",
      "35 :  **Caption:** \"An official review is underway on Court 2, with the tennis ball landing precisely on the line, making a call that could sway the outcome of the match.\"\n",
      "36 :  **Caption:**\n",
      "\"A badminton player in a tense moment of a match, captured mid-swing as they go for a decisive shot. The focused intensity of the player and the attentive audience highlight the competitive atmosphere of the game.\"\n",
      "37 :  **Caption:** \"Two badminton players intensely compete in a high-stakes match, showcasing their agility and skill. The player in the foreground prepares to return a shot while their opponent awaits the move, indicating a critical moment late in the game with the score drawing close to the match point.\"\n",
      "38 :  **Caption:** \"In the tense final moments of a badminton match, both players are fully engaged in a rapid exchange, showcasing their agility, precision, and determination. The scoreboard reveals a close competition with Lee Z.J. leading at 21-17 against Antonsen.\"\n",
      "39 :  **Caption:** \"In a thrilling badminton match, two players intensely compete under the bright lights of the arena. The scoreboard shows a crucial point with one player leading at 17-3, capturing the high stakes and competitive nature of the game.\"\n",
      "40 :  **Caption:** \"A pivotal moment in a high-stakes badminton match as player Lee Z.J. scores, taking the set at 21 to 17 against Antonsen. The intense rally showcases both players' skill and determination, with the winning shot highlighting Lee Z.J.'s strategic prowess and athleticism.\"\n",
      "41 :  **Caption:** \"A badminton player from Malaysia, Lee Z.J., walks confidently on the court after a significant moment in the match against Antonsen. The scoreboard shows Lee leading with a score of 21-3, indicating his dominant performance.\"\n",
      "42 :  **Caption:** \"A badminton player intensely focuses after a pivotal play, showcasing the high stakes and competitive spirit of the match as the score stands at 21-17 in favor of Lee Z J.\"\n",
      "43 :  **Caption:** \"A dynamic moment in a badminton match as a player leaps into the air to execute a powerful smash, displaying agility and precision under the arena's bright lights.\"\n",
      "44 :  **Caption:** \"A badminton player leaps into the air for a powerful smash during an intense match, with the opponent ready to return, highlighting the agility and competitive spirit in play.\"\n",
      "45 :  **Caption:** \"A decisive rally in a competitive badminton match as both players demonstrate agility and precision, capturing a critical moment in the game with the scoreboard showing a close score in the current set.\"\n",
      "46 :  \"During a dynamic badminton match, two players are engaged in an intense rally. The scoreboard indicates a closely contested game, showcasing the players' agility and skill on the Kuala Lumpur court, while a captivated audience observes the action.\"\n",
      "47 :  **Caption:** \"A professional badminton player, Lee Z.J., walks confidently across the court during a high-stakes match at the Malaysia Open 2023, with the score tied at 3-3, highlighting the intense competition and focus.\"\n",
      "48 :  **Caption:** \"A gripping moment during the Petronas Malaysia Open, highlighting the close competition with the score tied at 3-3 between NARAOKA and LEE Z.J., emphasizing the intense atmosphere of the HSBC BWF World Tour event.\"\n",
      "49 :  \"Two badminton players intensely compete in a match, one poised to return the shuttlecock after a powerful shot from the opponent. The scene captures the players' focus and agility on the court, highlighting the competitiveness and fast-paced nature of the game.\"\n",
      "50 :  **Caption:** \"A tense moment as a badminton player focuses intensely, preparing to return a serve during a high-stakes match, with an umpire closely observing and a packed stadium adding to the pressure.\"\n",
      "51 :  **Caption:** \"One player makes a powerful smash while the opponent stretches to reach for the shuttlecock in a high-stakes rally during a badminton match, showcasing intense focus and athleticism.\"\n",
      "52 :  **Caption:** \"A badminton player intensely focuses on the court during a competitive match, highlighting the ongoing intense gameplay with the score displayed in the top corner showing a lead of 18-8.\"\n",
      "53 :  **Caption:** \"In an intense badminton match, a player expertly positions himself to return a high shuttlecock while his opponent prepares for the next move, capturing the high level of skill and anticipation in the game.\"\n",
      "54 :  \"A badminton player intensely focuses as he prepares to strike the shuttlecock mid-game, illustrating a pivotal and high-energy moment in the match.\"\n",
      "55 :  **Caption:** \"In a high-stakes badminton match, the players exhibit remarkable skill and agility, keeping the audience on the edge of their seats. The scoreboard reflects a tight score, indicating an intense and closely contested game.\"\n",
      "56 :  **Caption:** \"In a gripping badminton match, two players showcase intense skill and agility, with the scoreboard reflecting a tight score. The player in red is about to strike the shuttlecock, demonstrating focus and precision. The electrifying atmosphere in Sydney's arena underscores the high stakes of this competitive moment.\"\n",
      "57 :  **Caption:** \"Two skilled badminton players intensely compete to reach a game point. The player in red lunges forward, demonstrating quick reflexes and determination. The tension is palpable as the match nears its climax.\"\n",
      "58 :  **Caption:** \"A tense moment unfolds as the badminton player walks with determination, glancing at the scoreboard which shows a tie at 19-19 in the deciding game, highlighting the intense competition and pressure of the match.\"\n",
      "59 :  **Caption:** \"A badminton player in deep concentration during a crucial point of the match, displaying focus and determination as they prepare to serve.\"\n",
      "60 :  \"A thrilling moment in a badminton match as one player executes a powerful shot while the opponent positions himself in readiness, showcasing intense focus and competitive spirit on the court.\"\n",
      "61 :  **Caption:** \"A tense moment in the badminton match as both players, displayed on the scoreboard as Lee Z.J. and Shi Y.Q., engage in a high-speed rally. The score shows a close competition, with both players fully immersed in the game. The vibrant arena in Kuala Lumpur heightens the thrilling atmosphere of the match.\"\n",
      "62 :  \"An intense badminton match unfolds as two players engage in a fierce rally. The focus, energy, and precision of each shot highlight the high stakes and competitive spirit of the game. The scoreboard indicates a close and pivotal moment in the match.\"\n",
      "63 :  **Caption:** \"A heated moment in a badminton match as two players engage in a high-stakes rally. The scoreboard reveals a tense and close game, amplifying the excitement in the vibrant Kuala Lumpur arena.\"\n",
      "64 :  ***\"Two badminton players intensely compete, with one returning a shot from the back of the court. The scoreboard indicates a crucial point as both players are locked in a tight match, highlighting the high stakes and competitive spirit of the game.\"***\n",
      "65 :  \"A badminton player bends over in exhaustion and relief after a challenging match, reflecting the intense effort and emotions involved in the sport. The scoreboard in the background displays the final scores, marking a significant moment in the competition.\"\n",
      "66 :  \"A badminton player, with a focused expression, is captured during a pivotal moment on the court, indicating an intense and crucial point in the match.\"\n",
      "67 :  **Caption:** \"Two badminton players engage in a high-intensity rally, showcasing their agility and skill as they compete in an important match.\"\n",
      "68 :  **Caption:** \"A badminton player lunges forward for a powerful smash, showcasing agility and precision in this intense match, while the opponent stands ready to return the shot.\"\n",
      "69 :  **Caption:** \"A badminton player intensely focuses and stretches to reach the shuttlecock, showcasing agility and determination in the heat of the match.\"\n",
      "70 :  \"Two professional badminton players engage in a highly competitive match on a well-lit court. The scoreboard indicates an intense set with Momota leading at 20-15, creating a thrilling moment as he prepares to serve, possibly on the brink of victory. The audience watches attentively, adding to the atmosphere of anticipation.\"\n",
      "71 :  **Caption:** \"Two skilled badminton players engage in an intense rally during a high-stakes match. Both athletes display remarkable agility and precision, contributing to the electrifying atmosphere of the competition.\"\n",
      "72 :  **Caption:** \"Two badminton players intensely compete on the court in a decisive moment of the match, with both sides determined to score and the audience watching attentively.\"\n",
      "73 :  \"Lee Z.J. intently focuses on the match, showing determination and resilience as the badminton game enters a critical phase.\"\n",
      "74 :  **Caption:** \"A pivotal moment in a badminton match as one player leaps forward for a decisive shot, displaying athleticism and agility while the opponent braces for the impact.\"\n",
      "75 :  ***\"A player in mid-air delivers a powerful smash during a thrilling badminton match, showcasing exceptional athleticism and skill, while the opponent stands ready to respond.\"***\n",
      "76 :  \"A tense moment in a badminton match as two players face off in an intense rally, with the scoreboard showing Lee Z.J. trailing by one point against Shi Y.Q. at 18-19. The players are in mid-action, demonstrating agility and focus, amidst a packed, dimly lit arena in Birmingham.\"\n",
      "77 :  **Caption:** \"In a pivotal moment of the badminton match, both players intensely engage in a fast-paced rally. The scoreboard indicates a tight score, showcasing the competitive nature and high stakes of the game in Birmingham.\"\n",
      "78 :  **Caption:** \"A badminton player, identified by the name on his jersey, focuses intently during a tense and closely contested match with the score tied at 19-19, highlighting the critical and high-pressure moment in the game.\"\n",
      "79 :  \"An intense moment during a badminton match, showing a player focused and determined with the score tied at 19-19, capturing the tension and excitement of the game.\"\n",
      "80 :  **Caption:** \"A tense moment in the badminton semi-final as both players are intensely engaged in a rally, showcasing their agility and strategic gameplay under the bright arena lights.\"\n",
      "81 :  **Caption:** \"In an intense match point situation at the TotalEnergies BWF Sudirman Cup Finals 2023, player Lee Z.J. prepares to return a high-pressure shot against opponent Chou T.C., both showcasing their athletic prowess and competitive spirit on the badminton court.\"\n",
      "82 :  **Caption:** \"In a pivotal moment of the TotalEnergies BWF Sudirman Cup Finals 2023, Lee Z.J. and Chou T.C. engage in an intense rally. The scoreboard shows Lee leading with 17 points to Chou's 12, emphasizing the high stakes and competitive spirit on display in this crucial badminton match.\"\n",
      "83 :  **Caption:** \"Two badminton players compete in an intense rally during the TotalEnergies BWF Sudirman Cup Finals 2023, showcasing their remarkable athleticism and skill. The scoreboard indicates a close match, adding to the excitement of the game.\"\n",
      "84 :  **Caption:** \"Two badminton players engage in an intense rally during the TotalEnergies BWF Sudirman Cup Finals 2023, showcasing their agility and skill on the court as the scoreboard reflects a close match.\"\n",
      "85 :  **Caption:** \"Two coaches on the sidelines enthusiastically applaud as their team secures an important point during a badminton match, reflecting their support and encouragement.\"\n",
      "86 :  **Caption:** \"A tense moment in a badminton match as a player lunges forward to return a low shot, showcasing agility and quick reflexes, with both competitors intensely focused on the game.\"\n",
      "87 :  **Caption:** \"A badminton player takes a powerful swing mid-air, showcasing intense focus and athleticism in a crucial moment of the match.\"\n",
      "88 :  **Caption:** \"A badminton player from Malaysia, with 'LEE Z J' inscribed on his back, is seen intensely focused during a match, highlighting a significant and possibly victorious moment in his game.\"\n",
      "89 :  **Caption:** \"In a tense and exhilarating moment, two badminton players engage in a fierce rally, both tied at 20-20, keeping the audience on the edge of their seats as they vie for victory in what could be the decisive point of the match.\"\n",
      "90 :  **Caption:** \"Two badminton players fiercely compete in a high-stakes match, both at a tied score of 20-20, showcasing their skill and determination as they strive for victory.\"\n",
      "91 :  **Caption:** \"Two badminton players intensely compete in a high-stakes match with the score tied at 20-20. The tension and focus are palpable as the players prepare for the next pivotal rally in front of a captivated audience.\"\n",
      "92 :  **Caption:** \"Two highly skilled badminton players engage in an intense rally with the score tied at 20-20, highlighting the competitive atmosphere and critical moment in the match.\"\n",
      "93 :  **Caption:** \"In a high-stakes match, two skilled badminton players engage in an intense rally, each vying for the crucial next point as the scoreboard shows a nail-biting 20-20 score, capturing the competitive spirit and determination present on the court.\"\n",
      "94 :  **Caption:** \"Two badminton players intensely compete in a thrilling match, with the score tied at 20-20, highlighting the high stakes and tension in this critical moment.\"\n",
      "95 :  \"Lee Z.J. from Malaysia is captured in a moment of intense focus during a badminton match, leading with a score of 21-20 against SEN. This frame highlights the tension and determination in a closely contested game.\"\n",
      "96 :  \"A pivotal moment in a competitive badminton match shows two players intensely focused on the game. The player on the right, mid-action, prepares to return a fast shuttlecock, while the player on the left readies for a swift reaction. The atmosphere is charged with the audience's anticipation, highlighted by the darkened arena and the players' spotlight.\"\n",
      "97 :  **Caption:** \"Two badminton players stand poised on the court, ready for the decisive point in a highly competitive match, as spectators watch intently in the dimly lit arena.\"\n",
      "98 :  ***\"An intense badminton match in progress with players Lee Z.J. and Axelsen tied at 24 points each, indicating a highly competitive and crucial moment. Both athletes are fully engaged, displaying remarkable focus and skill, while the audience observes in anticipation.\"***\n",
      "99 :  **Caption:** \"In a thrilling badminton match, both players, Lee ZJ and Axelsen, are tied at 24-all, showcasing intense focus and competitive spirit. The rally at this critical juncture demonstrates their exceptional skills and determination to win.\"\n",
      "100 :  **Caption:** \"Two badminton players fiercely compete during a critical moment of the match, with the score tied at 24-24, heightening the tension as each rally becomes pivotal for victory.\"\n",
      "101 :  **Caption:** \"An intense moment in the badminton match as the player focuses deeply with the score tied at 24-24, highlighting the high stakes and competitive atmosphere.\"\n",
      "102 :  **Caption:** \"Axelsen from Denmark, momentarily facing away, stands poised on the badminton court after a close and intense rally, with the scoreboard highlighting the narrow score gap of 25-24 against opponent Lee Z.J.\"\n",
      "103 :  **Caption:** \"A badminton player successfully returns a difficult shot, showcasing agility and precision, while the opponent closely monitors the shuttlecock, ready for the next move. The intensity of the match is palpable as both players are deeply focused.\"\n",
      "104 :  **Caption:** \"An intense moment in a badminton match as the player in red prepares to return a shot, with the scoreboard revealing a critical point rivalry between R. Augustin (22) and Lee Z.J (20) in New Delhi.\"\n",
      "105 :  **Caption:** \"In a tense climax, one player stretches to return the shuttlecock while the other stands ready, capturing the high intensity and pivotal moments of the badminton match as the score reaches 22-20.\"\n",
      "106 :  **Caption:** \"A tense moment in a badminton match as player Rubisavitro prepares to serve, with the scoreboard showing a close game. The intensity is palpable as both players strive for victory in this crucial phase of the match.\"\n",
      "107 :  **Caption:** \"A badminton player prepares to receive a serve in a competitive match, showcasing focus and readiness. The umpire oversees the game from their chair, and the tension of the match is palpable.\"\n",
      "108 :  **Caption:** \"In a high-stakes badminton match, the players display remarkable agility and precision. One player lunges to return a shot while the other anticipates the next move, highlighting the intensity and competitive spirit of the game.\"\n",
      "109 :  **Caption:** \"A badminton player stands triumphantly on the court, with the scoreboard showing a tight match in progress at the PETRONAS Malaysia Open 2023. The atmosphere is tense and competitive, highlighting the player's focus and determination.\"\n",
      "110 :  **Caption:** \"A badminton player lunges forward to make a rapid, low return shot, while the opponent prepares for the next move, highlighting the intensity and skill of the match.\"\n",
      "111 :  **Caption:** \"A badminton player executes a powerful jump smash towards the opponent, showcasing athleticism and precision during an intense match.\"\n",
      "112 :  **Caption:** \"In an intense rally, two badminton players showcase their agility and strategic gameplay on the court, reflecting the high stakes and competitive nature of the match.\"\n",
      "113 :  **Caption:** \"In an intense badminton match, player Zhao J.P. executes a powerful shot, pushing Lee Z.J. to the back of the court. The scoreboard displays the tight score, reflecting the competitive nature of the game at 21-11, 19-21, and 6-6 in the final set, highlighting the crucial moment in the match.\"\n",
      "114 :  **Caption:** \"In an intense badminton match, the player in black lunges forward to perform a powerful return shot, showcasing remarkable agility and precision while the opponent in white anticipates the move, highlighting the competitive spirit and high-stakes nature of the game.\"\n",
      "\n",
      "\n",
      "115 :  **Caption:** \"A badminton player stands focused and determined during a tense moment in the match, highlighting the intensity of the competition and the stakes involved.\"\n",
      "116 :  **Caption:** \"In a highly intense badminton match, players Lee Z.J. and Shi Y.Q. engage in a thrilling rally, showcasing their athletic prowess and competitive spirit. The crowd watches attentively as the scoreboard reflects a close score of 16 to 15, adding to the excitement at the Birmingham venue.\"\n",
      "117 :  **Caption:** \"In a thrilling badminton match, the player on the left acknowledges the crowd's applause while the opponent on the right prepares for the next serve. The tight score of 16-15 highlights the intensity and competitive nature of the game.\"\n",
      "118 :  \"Audience member enthusiastically claps in support at a live sports event, reflecting the excitement and intensity of the match with the score displayed in the background.\"\n",
      "119 :  ***\"A high-stakes badminton semi-final match captures a pivotal moment as one player leaps into the air, poised to smash the shuttlecock towards their opponent, showcasing intense concentration and athletic prowess.\"***\n",
      "120 :  **Caption:** \"A badminton player performs a powerful jump smash, capturing the intensity and skill required in this pivotal moment of the match.\"\n",
      "121 :  **Caption:** \"Two badminton players intensely compete in a match, with one player diving to make a return as the other prepares to respond, highlighting the athleticism and determination in the sport.\"\n",
      "122 :  **Caption:** \"A climactic moment in a badminton match as the player in the back court prepares a powerful shot, demonstrating intense focus and athletic prowess. The scoreboard reveals the tension, with Lee Z.J. leading at a critical juncture in the game.\"\n",
      "123 :  **Caption:** \"Malaysian badminton player Lee ZJ sits on the court after securing a crucial point, with the scoreboard indicating his lead in a tense match against Nishimoto. The intensity and importance of the moment reflect the player's determination and the gravity of the competition.\"\n",
      "124 :  \"Two badminton players engage in a high-energy rally, focusing intensely on the shuttlecock's movement. The vibrant court setting, marked with tournament sponsorships, highlights the significance of this competitive moment.\"\n",
      "\n",
      "\n",
      "125 :  ***\"A high-stakes badminton match in progress, with two skilled players intensely focused on the game. The atmosphere in the arena is electric, with spectators eagerly watching from their seats. The vibrant court and professional setup highlight the significance of this sporting event.\"***\n",
      "126 :  **Caption:** \"An intense moment in a badminton match as a player dives to return a shot, showcasing agility and determination during a crucial point.\"\n",
      "127 :  ***\"Two badminton players fiercely compete on the court, with one player lunging forward in an intense effort to return the shuttlecock. The intensity of the match and the agility of the players are clearly showcased in this crucial moment.\"***\n",
      "128 :  **Caption:** \"A badminton player executes a powerful jump smash during a heated match, showcasing athleticism and skill in a crucial gameplay moment.\"\n",
      "129 :  **Caption:** \"A badminton player, representing Malaysia, sits on the court after an intense rally, capturing the moment of exhaustion and determination in the match.\"\n",
      "130 :  \"Two badminton players are in the midst of an intense rally on the court. One player in a red shirt lunges forward to return a shot, while the other player in a blue shirt maintains a strong defensive stance. The scoreboard shows a closely contested match with 'GINTING' leading 'LEE,' creating a high-stakes and thrilling atmosphere.\"\n",
      "131 :  **Caption:** \"In an intense badminton match, one player makes a swift and precise shot, while the opponent rushes to counter it. The scoreboard reflects a tight game, highlighting the competitive and highly skilled nature of the moment.\"\n",
      "132 :  **Caption:** \"In a thrilling moment of the badminton match, both players are intensely focused and at the peak of their game, exchanging rapid volleys. The scoreboard shows a tight competition, adding to the excitement and tension of the scene.\"\n",
      "133 :  **Caption:** \"A badminton shuttlecock lands on the court, marking a pivotal moment in the intense match between the players, further indicated by the current score displayed in the corner of the frame.\"\n",
      "134 :  **Caption:** \"A badminton player intensely focuses during a crucial moment of the match, holding the shuttlecock with determination, as the score stands 12-9, highlighting the competitive tension on the court.\"\n",
      "135 :  **Caption:** \"An intense moment during a badminton match as both players are fully engaged in a rapid exchange, reflecting their high skill levels and competitive spirit. The scoreboard indicates a closely contested game.\"\n",
      "136 :  **Caption:** \"In a fiercely competitive badminton match, two players intensely engage in a critical rally, showcasing their agility and determination. The scoreboard indicates a tight contest, adding to the anticipation and excitement.\"\n",
      "137 :  \"Audience attentively watches a thrilling badminton match, fully engrossed in the tense and competitive atmosphere.\"\n",
      "138 :  **Caption:** \"Two badminton players engage in an intense rally, with one making a swift return as the scoreboard highlights the close competition, contributing to a critical moment in the match.\"\n",
      "139 :  **Caption:** \"A moment of intense focus and precision as two badminton players engage in a fast-paced rally during the TotalEnergies BWF Sudirman Cup Finals 2023. The scoreboard indicates a tight match, highlighting the competitive and high-stakes nature of the game.\"\n",
      "140 :  **Caption:** \"Intense moment in the badminton match as Lee J. and Chou T. engage in a fast-paced rally, with both players showcasing their agility and skill on the court. The scoreboard reveals a close contest, heightening the excitement of the TotalEnergies BWF Sudirman Cup Finals 2023 in Suzhou.\"\n",
      "141 :  **Caption:** \"Two determined badminton players intensely rally back and forth during the BWF Sudirman Cup Finals 2023, capturing a pivotal and high-energy moment in the match. The scoreboard reflects a tight contest, adding to the excitement and tension.\"\n",
      "142 :  ***Frame Analysis:***\n",
      "1. **Visual Elements:**\n",
      "   - Two badminton players in action on the court.\n",
      "   - Scoreboard visible with scores 21-14 and 14-14.\n",
      "   - Background banners and advertisements.\n",
      "   - Court markings and net.\n",
      "\n",
      "2. **Emotions and Interactions:**\n",
      "   - Intense focus and determination from both players.\n",
      "   - Movement suggesting a dynamic exchange or rally.\n",
      "\n",
      "3. **Broader Context:**\n",
      "   - Competitive sports event, specifically a high-stakes badminton match.\n",
      "  \n",
      "***Contextual Captioning:***\n",
      "\"Two players fiercely compete in a crucial moment of a badminton match, with the scoreboard showing 21-14 and 14-14, highlighting the intensity and high stakes of the game.\"\n",
      "\n",
      "***Quality Assurance:***\n",
      "- The caption is clear, coherent, and relevant.\n",
      "- It captures the key elements and significance of the frame.\n",
      "- Balanced detail ensuring comprehension and engagement.\n",
      "143 :  **Caption:** \"Two badminton players engage in a high-intensity rally during the TotalEnergies BWF Sudirman Cup Finals 2023. One player is lunging forward to make a crucial shot, while the other prepares to react, showcasing their skill and determination on the court.\"\n",
      "144 :  \"Two coaches enthusiastically applaud during a pivotal moment in a badminton match, expressing their support and encouragement for their player, with the scoreboard showing a close and competitive score.\"\n",
      "145 :  **Caption:** \"The frame marks the prestigious Sudirman Cup held in Suzhou, 2023. The event is organized by TotalEnergies and BWF, capturing the anticipation and significance of this major badminton competition.\"\n",
      "146 :  **Caption:** \"A badminton player stands confidently on the court after a crucial point during the TotalEnergies BWF Sudirman Cup Finals, capturing the intensity and focus of the match.\"\n",
      "147 :  \"A badminton player demonstrates agility and focus as they reach out to return a shot, capturing the intensity and precision required in the sport.\"\n",
      "148 :  ***\"A badminton player intently focuses during a high-stakes match, with the score showing 20-17 in their favor, indicating a game point scenario and intense competitive atmosphere.\"***\n",
      "149 :  **Caption:** \"Intense badminton rally between Lee Z.J. and Axelsen at a major tournament, with the scoreboard reflecting a tight score of 20-17. Both players are showcasing their agility and precision in a crucial moment of the match.\"\n",
      "150 :  **Caption:** \"A badminton player leaps into the air for a powerful overhead smash, displaying agility and precision during a competitive match, as the score indicates a close contest.\"\n",
      "151 :  ***\"In an intense badminton match, Lee Z.J. and Axelsen are engaged in a critical rally with the score at 20-17. Both players are moving swiftly, showcasing their skills and determination in a crucial moment of the game.\"***\n",
      "152 :  **Caption:** \"In an intense badminton match, Lee Z.J. faces off against Axelsen. The atmosphere is tense as the players engage in a high-stakes rally, showcasing their skills and agility on the court, with Lee Z.J. leading at 20-17.\"\n",
      "153 :  **Caption:** \"A tense badminton match unfolds as two players engage in a fierce rally, with Lee Z.J. in an aggressive attacking position while Axelsen defends. The scoreboard indicates a close game, enhancing the high-stakes atmosphere.\"\n",
      "154 :  **Caption:** \"A badminton player prepares for the next rally during an intense match, with the scoreboard showing a competitive score of 20-17, capturing a pivotal moment as he gets closer to securing a game point.\"\n",
      "155 :  **Caption:** \"A badminton player prepares for the match by gathering equipment, reflecting the anticipation and focus before the game commences.\"\n",
      "156 :  **Caption:** \"At a pivotal moment in the badminton match, two players intensely battle, showcasing their skill and agility with a last-minute rally. The scoreboard highlights the stakes, adding to the tension and excitement in the arena.\"\n",
      "157 :  ***\"In an intense badminton match, a player in white delivers a powerful shot while his opponent in red moves swiftly to return the shuttlecock, highlighting the competitive spirit and skillful gameplay.\"***\n",
      "158 :  **Caption:** \"A thrilling badminton match sees player Momota in intense action, lunging forward to return the shuttlecock, with Lee Z.J. poised in the background. The scoreboard reveals a critical moment as the match nears its conclusion, adding to the suspense and excitement for the spectators.\"\n",
      "159 :  \"Lee Z. J. turns away from the court after scoring a crucial point, showcasing determination and focus during the intense badminton match at Incheon Airport arena.\"\n",
      "160 :  **Caption:** \"A focused badminton player, holding his racquet, stands ready during a critical moment in the match, as the score shows a close contest between the two players.\"\n",
      "161 :  \"Promotional poster for BWF TV encouraging viewers to watch content and subscribe. The design features dynamic abstract imagery and prominent text urging, 'WATCH NOW!' and 'DON'T MISS A MOMENT!' along with BWF's social media icons for further engagement.\"\n"
     ]
    }
   ],
   "source": [
    "# Iterate through all the results\n",
    "for i in range(len(image_paths)):\n",
    "    try:\n",
    "        print(i, \": \", results[i]['choices'][0]['message']['content'])\n",
    "    except KeyError:\n",
    "        print(i, \": missing\")\n",
    "        \n",
    "# for i in range(len(image_paths)):\n",
    "#     print(i, \": \", results[i]['choices'][0]['message']['content'])"
   ]
  },
  {
   "cell_type": "code",
   "execution_count": 42,
   "metadata": {},
   "outputs": [],
   "source": [
    "embedding_model = 'text-embedding-3-small'\n",
    "def get_embedding(text, model=embedding_model):\n",
    "   return client.embeddings.create(input = [text], model=model).data[0].embedding\n",
    "\n",
    "embedded_frame = {}\n",
    "for i in range(len(results)):\n",
    "    embedded_frame[i] = get_embedding(results[i]['choices'][0]['message']['content'], model=embedding_model)\n",
    "    embedded_frame[i] = np.array(embedded_frame[i]).reshape(1,-1)\n",
    "\n",
    "embedded_query = get_embedding(user_input, model=embedding_model)\n",
    "embedded_query = np.array(embedded_query).reshape(1,-1)"
   ]
  },
  {
   "cell_type": "code",
   "execution_count": 43,
   "metadata": {},
   "outputs": [],
   "source": [
    "from sklearn.metrics.pairwise import cosine_similarity\n",
    "\n",
    "similarity_result = {}\n",
    "for i in range(len(image_paths)):\n",
    "    similarity_result[i] = cosine_similarity(embedded_frame[i], embedded_query)\n",
    "\n",
    "ranked_frame_dict = dict(sorted(similarity_result.items(), key=lambda x:x[1]))"
   ]
  },
  {
   "cell_type": "code",
   "execution_count": 44,
   "metadata": {},
   "outputs": [
    {
     "data": {
      "text/plain": [
       "[43, 144, 127, 66, 10, 29, 96, 60, 119, 79]"
      ]
     },
     "execution_count": 44,
     "metadata": {},
     "output_type": "execute_result"
    }
   ],
   "source": [
    "ranked_frame_list = list(ranked_frame_dict.keys())\n",
    "ranked_frame_list[-10:]"
   ]
  },
  {
   "cell_type": "code",
   "execution_count": 45,
   "metadata": {},
   "outputs": [
    {
     "name": "stdout",
     "output_type": "stream",
     "text": [
      "**Caption:** \"A dynamic moment in a badminton match as a player leaps into the air to execute a powerful smash, displaying agility and precision under the arena's bright lights.\"\n",
      "\"Two coaches enthusiastically applaud during a pivotal moment in a badminton match, expressing their support and encouragement for their player, with the scoreboard showing a close and competitive score.\"\n",
      "***\"Two badminton players fiercely compete on the court, with one player lunging forward in an intense effort to return the shuttlecock. The intensity of the match and the agility of the players are clearly showcased in this crucial moment.\"***\n",
      "\"A badminton player, with a focused expression, is captured during a pivotal moment on the court, indicating an intense and crucial point in the match.\"\n",
      "\"Two team members energetically celebrate a critical point during a match, displaying their excitement and support from the sidelines. The scoreboard in the background indicates a competitive game in progress.\"\n",
      "\"During an intense badminton match, a player from Japan raises his arm in triumph after a successful play, while his Malaysian opponent walks away, highlighting the competitive spirit and key moment of the game.\"\n",
      "\"A pivotal moment in a competitive badminton match shows two players intensely focused on the game. The player on the right, mid-action, prepares to return a fast shuttlecock, while the player on the left readies for a swift reaction. The atmosphere is charged with the audience's anticipation, highlighted by the darkened arena and the players' spotlight.\"\n",
      "\"A thrilling moment in a badminton match as one player executes a powerful shot while the opponent positions himself in readiness, showcasing intense focus and competitive spirit on the court.\"\n",
      "***\"A high-stakes badminton semi-final match captures a pivotal moment as one player leaps into the air, poised to smash the shuttlecock towards their opponent, showcasing intense concentration and athletic prowess.\"***\n",
      "\"An intense moment during a badminton match, showing a player focused and determined with the score tied at 19-19, capturing the tension and excitement of the game.\"\n"
     ]
    }
   ],
   "source": [
    "for i in ranked_frame_list[-10:]:\n",
    "    print(results[i]['choices'][0]['message']['content'])"
   ]
  },
  {
   "cell_type": "code",
   "execution_count": null,
   "metadata": {},
   "outputs": [],
   "source": []
  }
 ],
 "metadata": {
  "kernelspec": {
   "display_name": "tiktok_env",
   "language": "python",
   "name": "python3"
  },
  "language_info": {
   "codemirror_mode": {
    "name": "ipython",
    "version": 3
   },
   "file_extension": ".py",
   "mimetype": "text/x-python",
   "name": "python",
   "nbconvert_exporter": "python",
   "pygments_lexer": "ipython3",
   "version": "3.9.19"
  }
 },
 "nbformat": 4,
 "nbformat_minor": 2
}
