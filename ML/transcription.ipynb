{
 "cells": [
  {
   "cell_type": "code",
   "execution_count": 1,
   "metadata": {},
   "outputs": [],
   "source": [
    "from openai import OpenAI\n",
    "from key import OPENAI_API_KEY"
   ]
  },
  {
   "cell_type": "code",
   "execution_count": 2,
   "metadata": {},
   "outputs": [],
   "source": [
    "client = OpenAI(api_key=OPENAI_API_KEY)"
   ]
  },
  {
   "cell_type": "code",
   "execution_count": 3,
   "metadata": {},
   "outputs": [],
   "source": [
    "# audio_file= open(\"/Users/joankadevi/Downloads/testingloudness.m4a\", \"rb\")\n",
    "\n",
    "audio_file_path = \"./audio/audio.mp3\"\n",
    "audio_file = open(audio_file_path, \"rb\")"
   ]
  },
  {
   "cell_type": "code",
   "execution_count": 4,
   "metadata": {},
   "outputs": [],
   "source": [
    "transcription = client.audio.transcriptions.create(\n",
    "  model=\"whisper-1\", \n",
    "  file=audio_file\n",
    ")"
   ]
  },
  {
   "cell_type": "code",
   "execution_count": 5,
   "metadata": {},
   "outputs": [
    {
     "name": "stdout",
     "output_type": "stream",
     "text": [
      "Here comes Aaron Gordon the other way. Gordon, oh my goodness! Oh! And are they calling that an offensive foul? An offensive foul, there's no challenge left. Winner takes a 3-2 lead in this opening round series. Morant, oh! A jawbreaker! Oh! From beyond the arc. Ross! Throw it down! Throw it down, Ross! Down the middle he goes! Fresh 14 for the Lakers. LeBron! Look out below! Oh my lord! Oh my lord! In fact, somebody just spilled a beer all over us. Brunson defends, snaps it outside to Wiggins. Oh! Drops the sledgehammer! But there's an open away! They call it an offensive foul! Rebound by Adams, his sixth. Morant blows by Primo. Attack! Oh! Holy cow! That is unbelievable! The bench still stands. Adams going long. Morant! He hit it! He hit it! He hit it! He hit it! John Morant, insanity! Nothing shocks me about this game. And that drew rim! It's still loose! Luka got it back! He did it! He did it! He did it! An improbable comeback by Dallas to tie it with one second left! They've got Curry. He checked it. Steps. For the win! Yes sir! His eighth career game winner! Let's do it! Cleveland! Let's do it in Cleveland! Cleveland! This is for you! Got it! Got it! That's a winner! Cleveland! Cleveland! This is for you! They still have it. And they steal it! They steal it away! It's Russ! Russ to tie the game! He's got it! Russ has got it! We're tied! We weren't even sure Jalen Brunson was going to play tonight. Hurt his foot on Sunday. And he comes up with a 30 point game despite being questionable coming in. A homecoming for Brunson. He just put the Bulls away with a triple. 23! 23! 22! 23! Thomas. To Durant. The fake. The second. Oh! Ankle breaker! KD! Well I said it wasn't going to be easy tonight. I think this is a prime example of just that. With a gaffer and a spin cycle for easy two. Stunning. 27 point lead. Down goes Johnson. Oh no. Oh no. They're shredding him! Oh no he didn't. Luka Doncic is absolutely putting on a show here. In the Western Conference. And they back it up. It's over. Pelz. No, no, no. Get it done. And on the spin and the reverse. The slam buys on. I know you didn't like it. Before that. We knew he was good. Oh! What vision. Perfect. Off to the races. What do you got? Yeah! Here's Carter. Stolen by Doncic. Could be fun. Doncic to the left! Hold on! That's in his bag as well. Of course it's going to be Simons. Oh! Wow! Wow! Sharp! Now that's a highlight. We're tied at 1.23. Five seconds left. Fox. Rising. 35 footer. It's good. And Sacramento a walk-off three from De'Aaron Fox. An absolute heartbreaker. Simply incredible basketball team. Doncic is missing the jumper there. It doesn't get easier. Oh! Short and cool. What a move there. I'm getting all the way to the rim. I don't care who's in front of me. I'm going to make whatever move I have to. Drake comes up with it. Head rolls it in. How about that? That might be the send-off. The only thing left now is to get... Celtics have a timeout. Decide not to use it here. Brown the drive. Jalen Brown kicks it out. Smart fakes. Inside. Tatum spins and he puts it on! They got to go. It's Kane. Johnson for the win! Draymond Green actually leaving the court. He's upset. Moran from half court. Oh! He puts it in! John Moran from half court at the buzzer! Launches. Oh! Money! Brown puts up the three. Off the mark. Rebound Wiggins. He's got three seconds to get a shot off. Wiggins to Poole. Poole gets it off in time. Oh! He banks it in! He banks it in! They count it as the buzzer sounds. Oh! Mitchell whirls in the basket and thunders it home! Oh! How did he do it? Daniel Gafford. It's not over. LeBron James comes right back. I'll tell you what. The fans got their money's worth tonight. McDermott having problems. Green's got a hand on it. Three on one. Rust! LeBron! Rust to LeBron! What did LeBron do with it? I mean, you talk about throwing it down. That's what you call throwing it down. But Mitchell was able to break it up. Here comes Dinwiddie! Cockin' it big! A Titanic finish! Turn over. Here's Jalen. Oh! He ascends and lands on top of Kleba after he smashes it. And then he says a hello to Kevin Garnett. Way outside near the arc. Green may angle something toward the rim. He gives it to Ibiza. He'll turn. Got it! Oh my! They're gonna count the bucket! But review. Ibiza catch a turn and shot! Finds Barrett. Get a shot up. This is for the win! Oh! It's gone off the window! RJ Barrett wins it for the Knicks! Here's Young. Sizes up Gibson. Around him. Shoots and hits! Trey Young taking the Knicks hard yet again. And their ankles. Avery Bradley with the deflection against Bain. Oh my God! That you're gonna ever see. Yeah, Bain's the initial defender and he blocks it with two hands. The outlet intended for Moran ends up in the hands of Graham. Jackson Hayes! And one foul called on Adams. He and his game are. Yang the offensive rebound. Oh! Bain! Clear some space! Warriors with a lead. Thompson just the two points. This team traveling. Oh! Exploding to the rim! Clay Thompson powers one down. Way ahead to Van Karel. Van Karel way up and throws it down. Russ. It'll count! He hits it again! Count it, Russ! Milwaukee's gone plus 15 since. A lead by one. Series tied at two apiece. Marcus Smart goes to the rack. And blocked by Drew Holliday! He throws it off Smart. Milwaukee ball! What a play by Drew Holliday! That is a great defensive play there. Coming off to help. Connaughton's beat. Drew Holliday not only. If I'm Milwaukee, I'm not letting this ball get up the floor. I'm taking a foul. And Horford gives it to Smart. Smart. He's picked by Holliday! And that's gonna do it! Milwaukee! A comeback win on the road! They win it 1-10, 1-0-7. And Milwaukee leads this best of seven series.\n"
     ]
    }
   ],
   "source": [
    "print(transcription.text)"
   ]
  }
 ],
 "metadata": {
  "kernelspec": {
   "display_name": "ENV_NAME",
   "language": "python",
   "name": "python3"
  },
  "language_info": {
   "codemirror_mode": {
    "name": "ipython",
    "version": 3
   },
   "file_extension": ".py",
   "mimetype": "text/x-python",
   "name": "python",
   "nbconvert_exporter": "python",
   "pygments_lexer": "ipython3",
   "version": "3.9.19"
  }
 },
 "nbformat": 4,
 "nbformat_minor": 2
}
